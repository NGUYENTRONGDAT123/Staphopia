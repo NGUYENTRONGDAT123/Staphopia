{
 "cells": [
  {
   "cell_type": "markdown",
   "source": [],
   "metadata": {}
  },
  {
   "cell_type": "code",
   "execution_count": 38,
   "source": [
    "import pandas as pd\r\n",
    "\r\n",
    "df = pd.read_json(\"subclass-sample.json\")\r\n",
    "\r\n",
    "print(df['result'])\r\n",
    "\r\n",
    "import json\r\n",
    "# load data using Python JSON module\r\n",
    "with open('subclass-sample.json','r') as f:\r\n",
    "    data = json.loads(f.read())\r\n",
    "\r\n",
    "df_nested_list = pd.json_normalize(data, record_path =['result'])\r\n",
    "\r\n"
   ],
   "outputs": [
    {
     "output_type": "stream",
     "name": "stdout",
     "text": [
      "0     {'_id': '158.csv', 'subclasses': ['FOSFOMYCIN'...\n",
      "1     {'_id': '124.csv', 'subclasses': ['TETRACYCLIN...\n",
      "2     {'_id': '120.csv', 'subclasses': ['FOSFOMYCIN'...\n",
      "3     {'_id': '186.csv', 'subclasses': ['TETRACYCLIN...\n",
      "4     {'_id': '187.csv', 'subclasses': ['BETA-LACTAM...\n",
      "                            ...                        \n",
      "93    {'_id': '109.csv', 'subclasses': ['TETRACYCLIN...\n",
      "94    {'_id': '133.csv', 'subclasses': ['FOSFOMYCIN'...\n",
      "95    {'_id': '138.csv', 'subclasses': ['FOSFOMYCIN'...\n",
      "96    {'_id': '142.csv', 'subclasses': ['FOSFOMYCIN'...\n",
      "97    {'_id': '152.csv', 'subclasses': ['BETA-LACTAM...\n",
      "Name: result, Length: 98, dtype: object\n"
     ]
    }
   ],
   "metadata": {}
  },
  {
   "cell_type": "code",
   "execution_count": 39,
   "source": [
    "print(df_nested_list.head(5))\r\n",
    "\r\n",
    "# group by account, then list all services\r\n",
    "transactions = df_nested_list.groupby(['_id'])['subclasses'].apply(list)\r\n",
    "\r\n",
    "print(transactions.describe())\r\n",
    "\r\n",
    "from apyori import apriori\r\n",
    "\r\n",
    "transactions = df_nested_list\r\n",
    "# type cast the transactions from pandas into normal list format and run apriori\r\n",
    "transaction_list = list(transactions)\r\n",
    "results = list(apriori(transaction_list, min_support=0.05))\r\n",
    "\r\n",
    "\r\n",
    "# print first 5 rules\r\n",
    "print(results[:5])\r\n"
   ],
   "outputs": [
    {
     "output_type": "stream",
     "name": "stdout",
     "text": [
      "       _id                                         subclasses\n",
      "0  158.csv  [FOSFOMYCIN, FOSFOMYCIN, TETRACYCLINE, BETA-LA...\n",
      "1  124.csv  [TETRACYCLINE, BETA-LACTAM, BETA-LACTAM, BETA-...\n",
      "2  120.csv  [FOSFOMYCIN, BETA-LACTAM, BETA-LACTAM, BETA-LA...\n",
      "3  186.csv  [TETRACYCLINE, FOSFOMYCIN, QUINOLONE, BLEOMYCI...\n",
      "4  187.csv  [BETA-LACTAM, BETA-LACTAM, QUINOLONE, METHICIL...\n",
      "count                                                    98\n",
      "unique                                                   40\n",
      "top       [[FOSFOMYCIN, BETA-LACTAM, BETA-LACTAM, BETA-L...\n",
      "freq                                                     18\n",
      "Name: subclasses, dtype: object\n",
      "[RelationRecord(items=frozenset({'_'}), support=0.5, ordered_statistics=[OrderedStatistic(items_base=frozenset(), items_add=frozenset({'_'}), confidence=0.5, lift=1.0)]), RelationRecord(items=frozenset({'a'}), support=0.5, ordered_statistics=[OrderedStatistic(items_base=frozenset(), items_add=frozenset({'a'}), confidence=0.5, lift=1.0)]), RelationRecord(items=frozenset({'b'}), support=0.5, ordered_statistics=[OrderedStatistic(items_base=frozenset(), items_add=frozenset({'b'}), confidence=0.5, lift=1.0)]), RelationRecord(items=frozenset({'c'}), support=0.5, ordered_statistics=[OrderedStatistic(items_base=frozenset(), items_add=frozenset({'c'}), confidence=0.5, lift=1.0)]), RelationRecord(items=frozenset({'d'}), support=0.5, ordered_statistics=[OrderedStatistic(items_base=frozenset(), items_add=frozenset({'d'}), confidence=0.5, lift=1.0)])]\n"
     ]
    }
   ],
   "metadata": {}
  },
  {
   "cell_type": "code",
   "execution_count": 40,
   "source": [
    "transactions = pd.DataFrame(df_nested_list)\r\n",
    "\r\n",
    "transactions = df_nested_list.groupby(['_id'])['subclasses'].apply(list)\r\n",
    "\r\n",
    "transaction_list = df_nested_list['subclasses'].apply(list)\r\n",
    "transaction_list = list(transaction_list)\r\n",
    "\r\n",
    "results = list(apriori(transaction_list, min_support=0.05))\r\n",
    "\r\n",
    "# print first 5 rules\r\n",
    "print(results[:5])\r\n",
    "\r\n",
    "\r\n",
    "\r\n",
    "\r\n",
    "\r\n"
   ],
   "outputs": [
    {
     "output_type": "stream",
     "name": "stdout",
     "text": [
      "[RelationRecord(items=frozenset({'BETA-LACTAM'}), support=0.9693877551020408, ordered_statistics=[OrderedStatistic(items_base=frozenset(), items_add=frozenset({'BETA-LACTAM'}), confidence=0.9693877551020408, lift=1.0)]), RelationRecord(items=frozenset({'FOSFOMYCIN'}), support=0.8061224489795918, ordered_statistics=[OrderedStatistic(items_base=frozenset(), items_add=frozenset({'FOSFOMYCIN'}), confidence=0.8061224489795918, lift=1.0)]), RelationRecord(items=frozenset({'MACROLIDE'}), support=0.15306122448979592, ordered_statistics=[OrderedStatistic(items_base=frozenset(), items_add=frozenset({'MACROLIDE'}), confidence=0.15306122448979592, lift=1.0)]), RelationRecord(items=frozenset({'METHICILLIN'}), support=0.2857142857142857, ordered_statistics=[OrderedStatistic(items_base=frozenset(), items_add=frozenset({'METHICILLIN'}), confidence=0.2857142857142857, lift=1.0)]), RelationRecord(items=frozenset({'QUINOLONE'}), support=0.16326530612244897, ordered_statistics=[OrderedStatistic(items_base=frozenset(), items_add=frozenset({'QUINOLONE'}), confidence=0.16326530612244897, lift=1.0)])]\n"
     ]
    }
   ],
   "metadata": {}
  },
  {
   "cell_type": "code",
   "execution_count": 41,
   "source": [
    "def convert_apriori_results_to_pandas_df(results):\r\n",
    "    rules = []\r\n",
    "    \r\n",
    "    for rule_set in results:\r\n",
    "        for rule in rule_set.ordered_statistics:\r\n",
    "            # items_base = left side of rules, items_add = right side\r\n",
    "            # support, confidence and lift for respective rules\r\n",
    "            rules.append([','.join(rule.items_base), ','.join(rule.items_add),\r\n",
    "                         rule_set.support, rule.confidence, rule.lift]) \r\n",
    "    \r\n",
    "    # typecast it to pandas df\r\n",
    "    return pd.DataFrame(rules, columns=['Left_side', 'Right_side', 'Support', 'Confidence', 'Lift']) \r\n",
    "\r\n",
    "result_df = convert_apriori_results_to_pandas_df(results)\r\n",
    "\r\n",
    "print(result_df.head(20))"
   ],
   "outputs": [
    {
     "output_type": "stream",
     "name": "stdout",
     "text": [
      "      Left_side                Right_side   Support  Confidence      Lift\n",
      "0                             BETA-LACTAM  0.969388    0.969388  1.000000\n",
      "1                              FOSFOMYCIN  0.806122    0.806122  1.000000\n",
      "2                               MACROLIDE  0.153061    0.153061  1.000000\n",
      "3                             METHICILLIN  0.285714    0.285714  1.000000\n",
      "4                               QUINOLONE  0.163265    0.163265  1.000000\n",
      "5                            TETRACYCLINE  1.000000    1.000000  1.000000\n",
      "6                  FOSFOMYCIN,BETA-LACTAM  0.775510    0.775510  1.000000\n",
      "7   BETA-LACTAM                FOSFOMYCIN  0.775510    0.800000  0.992405\n",
      "8    FOSFOMYCIN               BETA-LACTAM  0.775510    0.962025  0.992405\n",
      "9                   BETA-LACTAM,MACROLIDE  0.153061    0.153061  1.000000\n",
      "10  BETA-LACTAM                 MACROLIDE  0.153061    0.157895  1.031579\n",
      "11    MACROLIDE               BETA-LACTAM  0.153061    1.000000  1.031579\n",
      "12                METHICILLIN,BETA-LACTAM  0.285714    0.285714  1.000000\n",
      "13  BETA-LACTAM               METHICILLIN  0.285714    0.294737  1.031579\n",
      "14  METHICILLIN               BETA-LACTAM  0.285714    1.000000  1.031579\n",
      "15                  QUINOLONE,BETA-LACTAM  0.163265    0.163265  1.000000\n",
      "16  BETA-LACTAM                 QUINOLONE  0.163265    0.168421  1.031579\n",
      "17    QUINOLONE               BETA-LACTAM  0.163265    1.000000  1.031579\n",
      "18               TETRACYCLINE,BETA-LACTAM  0.969388    0.969388  1.000000\n",
      "19  BETA-LACTAM              TETRACYCLINE  0.969388    1.000000  1.000000\n"
     ]
    }
   ],
   "metadata": {}
  },
  {
   "cell_type": "code",
   "execution_count": 45,
   "source": [
    "# sort all acquired rules descending by lift\r\n",
    "result_df = result_df.sort_values(by='Lift', ascending=False)\r\n",
    "print(result_df.head(20))\r\n",
    "\r\n",
    "result_df.to_csv('association_rule.csv', index=False)"
   ],
   "outputs": [
    {
     "output_type": "stream",
     "name": "stdout",
     "text": [
      "                                          Left_side  \\\n",
      "155                                       QUINOLONE   \n",
      "221                          TETRACYCLINE,QUINOLONE   \n",
      "247              TETRACYCLINE,QUINOLONE,BETA-LACTAM   \n",
      "111                                       QUINOLONE   \n",
      "158                           QUINOLONE,BETA-LACTAM   \n",
      "241                          TETRACYCLINE,QUINOLONE   \n",
      "230                                       QUINOLONE   \n",
      "234                           QUINOLONE,BETA-LACTAM   \n",
      "214                                       QUINOLONE   \n",
      "249              TETRACYCLINE,METHICILLIN,MACROLIDE   \n",
      "216                           METHICILLIN,MACROLIDE   \n",
      "162               METHICILLIN,BETA-LACTAM,MACROLIDE   \n",
      "253  TETRACYCLINE,METHICILLIN,BETA-LACTAM,MACROLIDE   \n",
      "159                           METHICILLIN,MACROLIDE   \n",
      "236                           METHICILLIN,MACROLIDE   \n",
      "112                           METHICILLIN,MACROLIDE   \n",
      "242               METHICILLIN,BETA-LACTAM,MACROLIDE   \n",
      "223              TETRACYCLINE,METHICILLIN,MACROLIDE   \n",
      "251              TETRACYCLINE,QUINOLONE,METHICILLIN   \n",
      "245               QUINOLONE,METHICILLIN,BETA-LACTAM   \n",
      "\n",
      "                                         Right_side   Support  Confidence  \\\n",
      "155               METHICILLIN,BETA-LACTAM,MACROLIDE  0.091837    0.562500   \n",
      "221                           METHICILLIN,MACROLIDE  0.091837    0.562500   \n",
      "247                           METHICILLIN,MACROLIDE  0.091837    0.562500   \n",
      "111                           METHICILLIN,MACROLIDE  0.091837    0.562500   \n",
      "158                           METHICILLIN,MACROLIDE  0.091837    0.562500   \n",
      "241               METHICILLIN,BETA-LACTAM,MACROLIDE  0.091837    0.562500   \n",
      "230  TETRACYCLINE,METHICILLIN,BETA-LACTAM,MACROLIDE  0.091837    0.562500   \n",
      "234              TETRACYCLINE,METHICILLIN,MACROLIDE  0.091837    0.562500   \n",
      "214              TETRACYCLINE,METHICILLIN,MACROLIDE  0.091837    0.562500   \n",
      "249                           QUINOLONE,BETA-LACTAM  0.091837    0.818182   \n",
      "216                          TETRACYCLINE,QUINOLONE  0.091837    0.818182   \n",
      "162                                       QUINOLONE  0.091837    0.818182   \n",
      "253                                       QUINOLONE  0.091837    0.818182   \n",
      "159                           QUINOLONE,BETA-LACTAM  0.091837    0.818182   \n",
      "236              TETRACYCLINE,QUINOLONE,BETA-LACTAM  0.091837    0.818182   \n",
      "112                                       QUINOLONE  0.091837    0.818182   \n",
      "242                          TETRACYCLINE,QUINOLONE  0.091837    0.818182   \n",
      "223                                       QUINOLONE  0.091837    0.818182   \n",
      "251                           BETA-LACTAM,MACROLIDE  0.091837    0.642857   \n",
      "245                          TETRACYCLINE,MACROLIDE  0.091837    0.642857   \n",
      "\n",
      "         Lift  \n",
      "155  5.011364  \n",
      "221  5.011364  \n",
      "247  5.011364  \n",
      "111  5.011364  \n",
      "158  5.011364  \n",
      "241  5.011364  \n",
      "230  5.011364  \n",
      "234  5.011364  \n",
      "214  5.011364  \n",
      "249  5.011364  \n",
      "216  5.011364  \n",
      "162  5.011364  \n",
      "253  5.011364  \n",
      "159  5.011364  \n",
      "236  5.011364  \n",
      "112  5.011364  \n",
      "242  5.011364  \n",
      "223  5.011364  \n",
      "251  4.200000  \n",
      "245  4.200000  \n"
     ]
    }
   ],
   "metadata": {}
  }
 ],
 "metadata": {
  "orig_nbformat": 4,
  "language_info": {
   "name": "python",
   "version": "3.8.8",
   "mimetype": "text/x-python",
   "codemirror_mode": {
    "name": "ipython",
    "version": 3
   },
   "pygments_lexer": "ipython3",
   "nbconvert_exporter": "python",
   "file_extension": ".py"
  },
  "kernelspec": {
   "name": "python3",
   "display_name": "Python 3.8.8 64-bit ('base': conda)"
  },
  "interpreter": {
   "hash": "e3ea0e4d3c501299bcd86a3c7f9ae72c65cd8a24dc7e7fcbd1d10980e4f47bdb"
  }
 },
 "nbformat": 4,
 "nbformat_minor": 2
}